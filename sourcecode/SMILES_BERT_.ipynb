{
  "cells": [
    {
      "cell_type": "code",
      "execution_count": 1,
      "metadata": {
        "id": "W45ZIned0r2L"
      },
      "outputs": [],
      "source": [
        "import pandas as pd\n",
        "import torch\n",
        "import torch.nn.functional as F\n",
        "from torch import nn\n",
        "from torch.utils.data import DataLoader, TensorDataset\n",
        "from transformers import BertTokenizerFast, BertModel"
      ]
    },
    {
      "cell_type": "code",
      "execution_count": 2,
      "metadata": {
        "id": "1fhBGyTh_PbU"
      },
      "outputs": [],
      "source": [
        "# 1. 데이터 로드\n",
        "file_path = r'C:\\Users\\user\\Desktop\\WorkSpace\\DACON_drugdevproject\\data\\train.csv'\n",
        "train_data = pd.read_csv(file_path)\n",
        "\n",
        "file_path = r'C:\\Users\\user\\Desktop\\WorkSpace\\DACON_drugdevproject\\data\\test.csv'\n",
        "test_data = pd.read_csv(file_path)"
      ]
    },
    {
      "cell_type": "code",
      "execution_count": 3,
      "metadata": {
        "id": "x2StSDPTAU-t"
      },
      "outputs": [],
      "source": [
        "# 2. 필요한 열만 추출\n",
        "dataset = train_data[['Smiles', 'IC50_nM']]\n",
        "testset = test_data[['ID', 'Smiles']]"
      ]
    },
    {
      "cell_type": "code",
      "execution_count": 4,
      "metadata": {
        "id": "XE8_MGKJAkK8"
      },
      "outputs": [],
      "source": [
        "# 3. 토크나이저 로드\n",
        "checkpoint = 'unikei/bert-base-smiles'\n",
        "tokenizer = BertTokenizerFast.from_pretrained(checkpoint)"
      ]
    },
    {
      "cell_type": "code",
      "execution_count": 5,
      "metadata": {
        "id": "B643vQLNQ48Z"
      },
      "outputs": [],
      "source": [
        "# 4. SMILES 데이터를 토큰화\n",
        "smiles_list = dataset['Smiles'].tolist()\n",
        "tokenized_inputs = tokenizer(smiles_list, padding=True, truncation=True, return_tensors=\"pt\")\n",
        "\n",
        "smiles_list_test = testset['Smiles'].tolist()\n",
        "tokenized_inputs_test = tokenizer(smiles_list_test, padding=True, truncation=True, return_tensors=\"pt\")"
      ]
    },
    {
      "cell_type": "code",
      "execution_count": 6,
      "metadata": {
        "id": "OWBqLaIAUquo"
      },
      "outputs": [],
      "source": [
        "# 5. IC50 값을 텐서로 변환\n",
        "ic50_values = dataset['IC50_nM'].tolist()\n",
        "labels = torch.tensor(ic50_values, dtype=torch.float)"
      ]
    },
    {
      "cell_type": "code",
      "execution_count": 9,
      "metadata": {
        "id": "_bg_rNMvUwqR"
      },
      "outputs": [
        {
          "name": "stdout",
          "output_type": "stream",
          "text": [
            "tensor([[  2, 116,  42,  ...,   8, 592,   3],\n",
            "        [  2,  97,   7,  ...,   0,   0,   0],\n",
            "        [  2,  97,   7,  ...,   0,   0,   0],\n",
            "        ...,\n",
            "        [  2,  35,  23,  ...,   0,   0,   0],\n",
            "        [  2, 109,  42,  ...,   0,   0,   0],\n",
            "        [  2,  97,   7,  ...,   0,   0,   0]])\n",
            "tensor([[1, 1, 1,  ..., 1, 1, 1],\n",
            "        [1, 1, 1,  ..., 0, 0, 0],\n",
            "        [1, 1, 1,  ..., 0, 0, 0],\n",
            "        ...,\n",
            "        [1, 1, 1,  ..., 0, 0, 0],\n",
            "        [1, 1, 1,  ..., 0, 0, 0],\n",
            "        [1, 1, 1,  ..., 0, 0, 0]])\n",
            "input_ids shape: torch.Size([16, 96])\n",
            "attention_mask shape: torch.Size([16, 96])\n",
            "labels shape: torch.Size([16])\n"
          ]
        }
      ],
      "source": [
        "# 6. 데이터셋 생성\n",
        "train_dataset = TensorDataset(tokenized_inputs['input_ids'], tokenized_inputs['attention_mask'], labels)\n",
        "print(tokenized_inputs['input_ids'])\n",
        "print(tokenized_inputs['attention_mask'])\n",
        "train_dataloader = DataLoader(train_dataset, batch_size=16, shuffle=True)\n",
        "for batch in train_dataloader:\n",
        "        input_ids, attention_mask, ic50_labels = batch\n",
        "        print(f\"input_ids shape: {input_ids.shape}\")  # (batch_size, seq_len)\n",
        "        print(f\"attention_mask shape: {attention_mask.shape}\")  # (batch_size, seq_len)\n",
        "        print(f\"labels shape: {ic50_labels.shape}\")  # (batch_size,)\n",
        "        break"
      ]
    },
    {
      "cell_type": "code",
      "execution_count": 14,
      "metadata": {
        "id": "uFtFBrF0VXJF"
      },
      "outputs": [],
      "source": [
        "class EncoderOnlyTransformer(nn.Module):\n",
        "    def __init__(self, vocab_size, d_model=768, nhead=12, num_encoder_layers=12, dim_feedforward=3072, dropout=0.1):\n",
        "        super(EncoderOnlyTransformer, self).__init__()\n",
        "        # 토큰 ID를 임베딩 차원으로 변환하기 위한 임베딩 레이어\n",
        "        self.embedding = nn.Embedding(vocab_size, d_model)\n",
        "        \n",
        "        # Transformer Encoder Layer\n",
        "        encoder_layer = nn.TransformerEncoderLayer(d_model=d_model, nhead=nhead, dim_feedforward=dim_feedforward, dropout=dropout, batch_first=True)\n",
        "        self.transformer_encoder = nn.TransformerEncoder(encoder_layer, num_layers=num_encoder_layers)\n",
        "\n",
        "        # Positional encoding\n",
        "        self.positional_encoding = nn.Parameter(torch.zeros(1, 512, d_model))  # Assuming max seq_len = 512\n",
        "        \n",
        "        # Affine (Linear) layer for regression (output 1 dimension)\n",
        "        self.regressor = nn.Linear(d_model, 1)\n",
        "        \n",
        "        # Activation\n",
        "        self.relu = nn.ReLU()\n",
        "\n",
        "    def forward(self, input_ids, attention_mask=None):\n",
        "        # 임베딩 레이어 적용 (input_ids: [batch_size, seq_len] -> [batch_size, seq_len, d_model])\n",
        "        embedded_input = self.embedding(input_ids)\n",
        "        # Apply positional encoding\n",
        "        seq_len = embedded_input.size(1)\n",
        "        inputs_with_position = embedded_input + self.positional_encoding[:, :seq_len, :]\n",
        "\n",
        "        # attention_mask를 bool 타입으로 변환 (0 -> False, 1 -> True)\n",
        "        if attention_mask is not None:\n",
        "            attention_mask = attention_mask.bool()\n",
        "\n",
        "        # Transformer encoder expects input as [batch_size, seq_len, d_model]\n",
        "        encoded_output = self.transformer_encoder(inputs_with_position, src_key_padding_mask=~attention_mask)\n",
        "\n",
        "        # Apply pooling on the sequence dimension (e.g., using the output of the [CLS] token or average pooling)\n",
        "        pooled_output = torch.mean(encoded_output, dim=1)  # Simple average pooling\n",
        "\n",
        "        # Apply ReLU activation\n",
        "        pooled_output = self.relu(pooled_output)\n",
        "\n",
        "        # Apply Affine layer for regression\n",
        "        ic50_preds = self.regressor(pooled_output)\n",
        "        \n",
        "        return ic50_preds\n"
      ]
    },
    {
      "cell_type": "code",
      "execution_count": 15,
      "metadata": {
        "id": "vP1H34oS0r2P",
        "outputId": "0957eeb7-421a-4095-c832-feb13bf5932d"
      },
      "outputs": [
        {
          "name": "stdout",
          "output_type": "stream",
          "text": [
            "True\n",
            "NVIDIA GeForce RTX 3050\n"
          ]
        }
      ],
      "source": [
        "print(torch.cuda.is_available()),
        "print(torch.cuda.get_device_name(0))
      ]
    },
    {
      "cell_type": "code",
      "execution_count": 17,
      "metadata": {
        "colab": {
          "background_save": true
        },
        "id": "TLKH3jUGWeo2",
        "outputId": "4633cc76-433e-4b29-d5ea-1ffba3c69a25"
      },
      "outputs": [
        {
          "name": "stdout",
          "output_type": "stream",
          "text": [
            "Epoch [1/20], Loss: 3.8294\n",
            "Epoch [2/20], Loss: 2.7986\n",
            "Epoch [3/20], Loss: 2.7655\n",
            "Epoch [4/20], Loss: 2.7505\n",
            "Epoch [5/20], Loss: 2.7373\n",
            "Epoch [6/20], Loss: 2.7253\n",
            "Epoch [7/20], Loss: 2.7143\n",
            "Epoch [8/20], Loss: 2.7046\n",
            "Epoch [9/20], Loss: 2.6956\n",
            "Epoch [10/20], Loss: 2.6873\n",
            "Epoch [11/20], Loss: 2.6797\n",
            "Epoch [12/20], Loss: 2.6727\n",
            "Epoch [13/20], Loss: 2.6662\n",
            "Epoch [14/20], Loss: 2.6602\n",
            "Epoch [15/20], Loss: 2.6548\n",
            "Epoch [16/20], Loss: 2.6496\n",
            "Epoch [17/20], Loss: 2.6448\n",
            "Epoch [18/20], Loss: 2.6404\n",
            "Epoch [19/20], Loss: 2.6362\n",
            "Epoch [20/20], Loss: 2.6322\n",
            "학습 완료!\n"
          ]
        }
      ],
      "source": [
        "import torch\n",
        "from torch.utils.data import DataLoader, TensorDataset\n",
        "import torch.nn as nn\n",
        "import torch.optim as optim\n",
        "\n",
        "# 데이터 로더는 이미 만들어졌다고 가정합니다\n",
        "# train_dataloader: 훈련 데이터로부터 가져온 배치\n",
        "# test_dataloader: 테스트 데이터로부터 가져온 배치\n",
        "\n",
        "# 모델 초기화\n",
        "model = EncoderOnlyTransformer(vocab_size = tokenizer.vocab_size, d_model=96, nhead=6, num_encoder_layers=6, dim_feedforward=1024, dropout=0.1)\n",
        "device = torch.device('cuda' if torch.cuda.is_available() else 'cpu')\n",
        "model.to(device)\n",
        "\n",
        "# 손실 함수 및 옵티마이저\n",
        "loss_fn = nn.MSELoss()\n",
        "optimizer = optim.AdamW(model.parameters(), lr=1e-4)\n",
        "\n",
        "# 학습 설정\n",
        "num_epochs = 20\n",
        "train_loss_history = []\n",
        "\n",
        "# 학습 루프\n",
        "for epoch in range(num_epochs):\n",
        "    model.train()  # 모델을 학습 모드로 설정\n",
        "    epoch_loss = 0.0\n",
        "    \n",
        "    for batch in train_dataloader:\n",
        "        input_ids, attention_mask, labels = batch\n",
        "        input_ids, attention_mask, labels = input_ids.to(device), attention_mask.to(device), labels.to(device)\n",
        "        \n",
        "        # 모델 예측\n",
        "        outputs = model(input_ids=input_ids, attention_mask=attention_mask)\n",
        "        outputs = outputs.squeeze()  # (batch_size, 1) -> (batch_size,)로 변경\n",
        "        \n",
        "        # 손실 계산\n",
        "        loss = loss_fn(1/outputs, 1/labels)\n",
        "        \n",
        "        # 역전파 및 옵티마이저 업데이트\n",
        "        optimizer.zero_grad()\n",
        "        loss.backward()\n",
        "        optimizer.step()\n",
        "        \n",
        "        epoch_loss += loss.item()\n",
        "        \n",
        "    \n",
        "    avg_epoch_loss = epoch_loss / len(train_dataloader)\n",
        "    train_loss_history.append(avg_epoch_loss)\n",
        "    \n",
        "    print(f\"Epoch [{epoch+1}/{num_epochs}], Loss: {avg_epoch_loss:.4f}\")\n",
        "\n",
        "print(\"학습 완료!\")\n"
      ]
    },
    {
      "cell_type": "code",
      "execution_count": null,
      "metadata": {},
      "outputs": [],
      "source": []
    }
  ],
  "metadata": {
    "colab": {
      "provenance": []
    },
    "kernelspec": {
      "display_name": "Python 3",
      "name": "python3"
    },
    "language_info": {
      "codemirror_mode": {
        "name": "ipython",
        "version": 3
      },
      "file_extension": ".py",
      "mimetype": "text/x-python",
      "name": "python",
      "nbconvert_exporter": "python",
      "pygments_lexer": "ipython3",
      "version": "3.12.4"
    }
  },
  "nbformat": 4,
  "nbformat_minor": 0
}
